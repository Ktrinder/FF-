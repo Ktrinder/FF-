{
  "nbformat": 4,
  "nbformat_minor": 0,
  "metadata": {
    "colab": {
      "provenance": [],
      "authorship_tag": "ABX9TyPAEYthv/AgjsKEvZ+qYht/",
      "include_colab_link": true
    },
    "kernelspec": {
      "name": "python3",
      "display_name": "Python 3"
    },
    "language_info": {
      "name": "python"
    }
  },
  "cells": [
    {
      "cell_type": "markdown",
      "metadata": {
        "id": "view-in-github",
        "colab_type": "text"
      },
      "source": [
        "<a href=\"https://colab.research.google.com/github/Ktrinder/FF-/blob/main/FF_Python_Week_3.ipynb\" target=\"_parent\"><img src=\"https://colab.research.google.com/assets/colab-badge.svg\" alt=\"Open In Colab\"/></a>"
      ]
    },
    {
      "cell_type": "code",
      "execution_count": null,
      "metadata": {
        "colab": {
          "base_uri": "https://localhost:8080/"
        },
        "id": "GAWLIZpr_yGx",
        "outputId": "e71cd2a5-064a-450c-a8ac-d79f2bba828c"
      },
      "outputs": [
        {
          "output_type": "execute_result",
          "data": {
            "text/plain": [
              "True"
            ]
          },
          "metadata": {},
          "execution_count": 1
        }
      ],
      "source": [
        "x=4\n",
        "y=5\n",
        "not(x==y)"
      ]
    },
    {
      "cell_type": "code",
      "source": [
        "x=10\n",
        "if x%2==0:\n",
        "  print(\"This is an even number\")\n",
        "else:\n",
        "    print(\"This is not an even number\")"
      ],
      "metadata": {
        "colab": {
          "base_uri": "https://localhost:8080/"
        },
        "id": "aDfJp4KMAXxU",
        "outputId": "309ecabd-1224-4af0-c7b5-7230ae1cd7cd"
      },
      "execution_count": null,
      "outputs": [
        {
          "output_type": "stream",
          "name": "stdout",
          "text": [
            "This is an even number\n"
          ]
        }
      ]
    },
    {
      "cell_type": "code",
      "source": [
        "a=15\n",
        "b=12\n",
        "if a==b:\n",
        "  print(\"The two numbers are equal\")\n",
        "elif a>b:\n",
        "  print(\"The first number is greater than second\")\n",
        "else:\n",
        "  print(\"The first number is smaller than the second\")"
      ],
      "metadata": {
        "colab": {
          "base_uri": "https://localhost:8080/"
        },
        "id": "MHTOLIfVAhrD",
        "outputId": "9a7c597c-6f2d-426b-9bec-9a0324e840de"
      },
      "execution_count": null,
      "outputs": [
        {
          "output_type": "stream",
          "name": "stdout",
          "text": [
            "The first number is greater than second\n"
          ]
        }
      ]
    },
    {
      "cell_type": "code",
      "source": [
        "a=0\n",
        "b=3\n",
        "if b>a:\n",
        "  print(\"Positive\")\n",
        "elif b<a:\n",
        "  print(\"Negative\")"
      ],
      "metadata": {
        "colab": {
          "base_uri": "https://localhost:8080/"
        },
        "id": "KW1O_jPTBVri",
        "outputId": "b4be64bd-81ee-43d8-94d2-ba3d99d6db22"
      },
      "execution_count": null,
      "outputs": [
        {
          "output_type": "stream",
          "name": "stdout",
          "text": [
            "Positive\n"
          ]
        }
      ]
    },
    {
      "cell_type": "code",
      "source": [
        "x=3\n",
        "if x==0:\n",
        "  print(\"equal to zero\")\n",
        "elif x>0:\n",
        "  print(\"positive\")\n",
        "else:\n",
        "  print(\"negative\")"
      ],
      "metadata": {
        "colab": {
          "base_uri": "https://localhost:8080/"
        },
        "id": "jcSpqeraCyAJ",
        "outputId": "5611bb48-1a8e-4fb2-d236-f2e73b0ab8f2"
      },
      "execution_count": null,
      "outputs": [
        {
          "output_type": "stream",
          "name": "stdout",
          "text": [
            "positive\n"
          ]
        }
      ]
    },
    {
      "cell_type": "code",
      "source": [
        "for i in range(0,11):\n",
        "  print(\"The iteration is {}\".format(i))\n",
        "print(\"The end\")"
      ],
      "metadata": {
        "colab": {
          "base_uri": "https://localhost:8080/"
        },
        "id": "9xIOhJsCDk0Q",
        "outputId": "8fd698fd-b7a0-42dc-b7e0-4fe08d274900"
      },
      "execution_count": null,
      "outputs": [
        {
          "output_type": "stream",
          "name": "stdout",
          "text": [
            "The iteration is 0\n",
            "The iteration is 1\n",
            "The iteration is 2\n",
            "The iteration is 3\n",
            "The iteration is 4\n",
            "The iteration is 5\n",
            "The iteration is 6\n",
            "The iteration is 7\n",
            "The iteration is 8\n",
            "The iteration is 9\n",
            "The iteration is 10\n",
            "The end\n"
          ]
        }
      ]
    },
    {
      "cell_type": "code",
      "source": [
        "a=1\n",
        "while a<6:\n",
        "  print(a)\n",
        "  a=1+a\n",
        "print(\"The end\")\n"
      ],
      "metadata": {
        "colab": {
          "base_uri": "https://localhost:8080/"
        },
        "id": "jiiSX3sWFBq_",
        "outputId": "07d03910-fdc7-4736-8872-5cadab03d134"
      },
      "execution_count": null,
      "outputs": [
        {
          "output_type": "stream",
          "name": "stdout",
          "text": [
            "1\n",
            "2\n",
            "3\n",
            "4\n",
            "5\n",
            "The end\n"
          ]
        }
      ]
    },
    {
      "cell_type": "code",
      "source": [
        "targetvalue=10\n",
        "iterate=0\n",
        "while iterate <targetvalue:\n",
        "  print(\"The iteration number is {}, which is less than the target value {}\".format(iterate, targetvalue))\n",
        "  iterate=iterate+1\n",
        "print(\"The end\")"
      ],
      "metadata": {
        "colab": {
          "base_uri": "https://localhost:8080/"
        },
        "id": "6zqjSOdUG3uu",
        "outputId": "002165c6-81fa-481b-9323-1825456ce069"
      },
      "execution_count": null,
      "outputs": [
        {
          "output_type": "stream",
          "name": "stdout",
          "text": [
            "The iteration number is 0, which is less than the target value 10\n",
            "The iteration number is 1, which is less than the target value 10\n",
            "The iteration number is 2, which is less than the target value 10\n",
            "The iteration number is 3, which is less than the target value 10\n",
            "The iteration number is 4, which is less than the target value 10\n",
            "The iteration number is 5, which is less than the target value 10\n",
            "The iteration number is 6, which is less than the target value 10\n",
            "The iteration number is 7, which is less than the target value 10\n",
            "The iteration number is 8, which is less than the target value 10\n",
            "The iteration number is 9, which is less than the target value 10\n",
            "The end\n"
          ]
        }
      ]
    },
    {
      "cell_type": "code",
      "source": [
        "for i in range(1,6):#outer loop\n",
        "  for j in range(1,11):#inner loop\n",
        "    print(i*j)"
      ],
      "metadata": {
        "colab": {
          "base_uri": "https://localhost:8080/"
        },
        "id": "gqnHkIbOJWwn",
        "outputId": "62184a9b-1fb1-4aea-dfae-72cec470b662"
      },
      "execution_count": null,
      "outputs": [
        {
          "output_type": "stream",
          "name": "stdout",
          "text": [
            "1\n",
            "2\n",
            "3\n",
            "4\n",
            "5\n",
            "6\n",
            "7\n",
            "8\n",
            "9\n",
            "10\n",
            "2\n",
            "4\n",
            "6\n",
            "8\n",
            "10\n",
            "12\n",
            "14\n",
            "16\n",
            "18\n",
            "20\n",
            "3\n",
            "6\n",
            "9\n",
            "12\n",
            "15\n",
            "18\n",
            "21\n",
            "24\n",
            "27\n",
            "30\n",
            "4\n",
            "8\n",
            "12\n",
            "16\n",
            "20\n",
            "24\n",
            "28\n",
            "32\n",
            "36\n",
            "40\n",
            "5\n",
            "10\n",
            "15\n",
            "20\n",
            "25\n",
            "30\n",
            "35\n",
            "40\n",
            "45\n",
            "50\n"
          ]
        }
      ]
    },
    {
      "cell_type": "code",
      "source": [
        "colours = [\"blue\", \"red\", \"yellow\"]\n",
        "cars = [\"BMW\", \"Mercedes\", \"Range\"]\n",
        "for colour in colours:\n",
        "  for car in cars:\n",
        "    print(colour, car)"
      ],
      "metadata": {
        "colab": {
          "base_uri": "https://localhost:8080/"
        },
        "id": "7AqgLd5nMScG",
        "outputId": "baa906b6-7e80-477a-fe0b-9aafe5d625c9"
      },
      "execution_count": null,
      "outputs": [
        {
          "output_type": "stream",
          "name": "stdout",
          "text": [
            "blue BMW\n",
            "blue Mercedes\n",
            "blue Range\n",
            "red BMW\n",
            "red Mercedes\n",
            "red Range\n",
            "yellow BMW\n",
            "yellow Mercedes\n",
            "yellow Range\n"
          ]
        }
      ]
    },
    {
      "cell_type": "code",
      "source": [
        "targetvalue=5\n",
        "iterate=0\n",
        "while iterate<targetvalue:\n",
        "  print(\"Iteration number is {}, which is less than the target value\".format(iterate,targetvalue))\n",
        "  if iterate==3:\n",
        "    print(\"Condition is met\")\n",
        "    break\n",
        "  iterate=iterate+1"
      ],
      "metadata": {
        "colab": {
          "base_uri": "https://localhost:8080/"
        },
        "id": "PNpdrnmfNzIT",
        "outputId": "ef1638ea-ee86-42a4-e19a-ed9fe6ac8f6b"
      },
      "execution_count": null,
      "outputs": [
        {
          "output_type": "stream",
          "name": "stdout",
          "text": [
            "Iteration number is 0, which is less than the target value\n",
            "Iteration number is 1, which is less than the target value\n",
            "Iteration number is 2, which is less than the target value\n",
            "Iteration number is 3, which is less than the target value\n",
            "Condition is met\n"
          ]
        }
      ]
    },
    {
      "cell_type": "code",
      "source": [
        "targetvalue=5\n",
        "iterate=0\n",
        "while iterate<targetvalue:\n",
        "  iterate=iterate+1\n",
        "  if iterate==2:\n",
        "    continue\n",
        "  print(\"Iteration number is {}, which is less than the target value {}\".format(iterate,targetvalue))\n",
        "print(\"Iteration number has been skipped\")"
      ],
      "metadata": {
        "colab": {
          "base_uri": "https://localhost:8080/"
        },
        "id": "pmSiImBCQEdb",
        "outputId": "ec577427-a1d1-47e2-f83d-797317e35f94"
      },
      "execution_count": null,
      "outputs": [
        {
          "output_type": "stream",
          "name": "stdout",
          "text": [
            "Iteration number is 1, which is less than the target value 5\n",
            "Iteration number is 3, which is less than the target value 5\n",
            "Iteration number is 4, which is less than the target value 5\n",
            "Iteration number is 5, which is less than the target value 5\n",
            "Iteration number has been skipped\n"
          ]
        }
      ]
    },
    {
      "cell_type": "code",
      "source": [
        "names=[\"Mercy\", \"Anis\", \"Chris\", \"Israel\"]\n",
        "for name in names:\n",
        "  if name==\"Chris\":\n",
        "    continue\n",
        "  print(name)"
      ],
      "metadata": {
        "colab": {
          "base_uri": "https://localhost:8080/"
        },
        "id": "1utdIHwkVnev",
        "outputId": "8c4f0a65-e13f-4868-8943-74d266f7cb54"
      },
      "execution_count": null,
      "outputs": [
        {
          "output_type": "stream",
          "name": "stdout",
          "text": [
            "Mercy\n",
            "Anis\n",
            "Israel\n"
          ]
        }
      ]
    },
    {
      "cell_type": "code",
      "source": [
        "mylist=[\"Michael\", \"Sean\", \"Adam\"]\n",
        "mylist[0]=\"John\"\n",
        "print(mylist)"
      ],
      "metadata": {
        "colab": {
          "base_uri": "https://localhost:8080/"
        },
        "id": "GR5z4Z1FXHXm",
        "outputId": "62898333-2089-4919-b68d-3feaab13aee1"
      },
      "execution_count": null,
      "outputs": [
        {
          "output_type": "stream",
          "name": "stdout",
          "text": [
            "['John', 'Sean', 'Adam']\n"
          ]
        }
      ]
    },
    {
      "cell_type": "code",
      "source": [
        "mylist[0:2]"
      ],
      "metadata": {
        "colab": {
          "base_uri": "https://localhost:8080/"
        },
        "id": "4LXJ9izFZskM",
        "outputId": "96e2daa2-7063-474a-f943-33c824d6ef79"
      },
      "execution_count": null,
      "outputs": [
        {
          "output_type": "execute_result",
          "data": {
            "text/plain": [
              "['John', 'Sean']"
            ]
          },
          "metadata": {},
          "execution_count": 43
        }
      ]
    },
    {
      "cell_type": "code",
      "source": [
        "print(len(mylist))"
      ],
      "metadata": {
        "colab": {
          "base_uri": "https://localhost:8080/"
        },
        "id": "7SB41gtMZwOE",
        "outputId": "c94a8c3d-ecf1-494d-b820-b4f7ab1e9613"
      },
      "execution_count": null,
      "outputs": [
        {
          "output_type": "stream",
          "name": "stdout",
          "text": [
            "3\n"
          ]
        }
      ]
    },
    {
      "cell_type": "code",
      "source": [
        "print(type(mylist))"
      ],
      "metadata": {
        "colab": {
          "base_uri": "https://localhost:8080/"
        },
        "id": "wyr3DzfuaS2V",
        "outputId": "071d27be-db5b-45c3-a3d1-bbb270e65d78"
      },
      "execution_count": null,
      "outputs": [
        {
          "output_type": "stream",
          "name": "stdout",
          "text": [
            "<class 'list'>\n"
          ]
        }
      ]
    },
    {
      "cell_type": "code",
      "source": [
        "mylist=[\"Michael\", \"Sean\", \"Adam\"]\n",
        "if \"Sean\" in mylist:\n",
        "  print(\"Yes the element is present\")"
      ],
      "metadata": {
        "colab": {
          "base_uri": "https://localhost:8080/"
        },
        "id": "yfuCnxtGa7-8",
        "outputId": "6a8ccea0-3cd6-43e9-c100-670ddb0fa35c"
      },
      "execution_count": null,
      "outputs": [
        {
          "output_type": "stream",
          "name": "stdout",
          "text": [
            "Yes the element is present\n"
          ]
        }
      ]
    },
    {
      "cell_type": "code",
      "source": [
        "mylist=[\"Michael\", \"Sean\", \"Adam\"]\n",
        "mylist.insert(0,\"Mercy\")\n",
        "print(mylist)"
      ],
      "metadata": {
        "colab": {
          "base_uri": "https://localhost:8080/"
        },
        "id": "lxyiuTvkbIGL",
        "outputId": "3f59e56d-5c3b-454a-e682-0d9a9a250be9"
      },
      "execution_count": null,
      "outputs": [
        {
          "output_type": "stream",
          "name": "stdout",
          "text": [
            "['Mercy', 'Michael', 'Sean', 'Adam']\n"
          ]
        }
      ]
    },
    {
      "cell_type": "code",
      "source": [
        "mylist.append(\"John\")\n",
        "print(mylist)"
      ],
      "metadata": {
        "colab": {
          "base_uri": "https://localhost:8080/"
        },
        "id": "8JpdNTtycBbT",
        "outputId": "350a92a3-85f3-4731-acb2-8b8c4e1513f6"
      },
      "execution_count": null,
      "outputs": [
        {
          "output_type": "stream",
          "name": "stdout",
          "text": [
            "['Mercy', 'Michael', 'Sean', 'Adam', 'John']\n"
          ]
        }
      ]
    },
    {
      "cell_type": "code",
      "source": [
        "mylist1=[\"Michael\", \"Sean\", \"Adam\"]\n",
        "mylist2=[\"Zara\", \"Alex\"]\n",
        "mylist1.extend(mylist2)\n",
        "print(mylist1)"
      ],
      "metadata": {
        "colab": {
          "base_uri": "https://localhost:8080/"
        },
        "id": "y6UbZkTlcHJr",
        "outputId": "eda96037-42d7-429a-ad82-4418230b341e"
      },
      "execution_count": null,
      "outputs": [
        {
          "output_type": "stream",
          "name": "stdout",
          "text": [
            "['Michael', 'Sean', 'Adam', 'Zara', 'Alex']\n"
          ]
        }
      ]
    },
    {
      "cell_type": "code",
      "source": [
        "mylist2.extend(mylist1)\n",
        "print(mylist2)"
      ],
      "metadata": {
        "colab": {
          "base_uri": "https://localhost:8080/"
        },
        "id": "CVo-JJ_bcif6",
        "outputId": "41485bb6-19fb-44a8-f972-e75f13c82cd4"
      },
      "execution_count": null,
      "outputs": [
        {
          "output_type": "stream",
          "name": "stdout",
          "text": [
            "['Zara', 'Alex', 'Michael', 'Sean', 'Adam', 'Zara', 'Alex', 'Michael', 'Sean', 'Adam', 'Zara', 'Alex']\n"
          ]
        }
      ]
    },
    {
      "cell_type": "code",
      "source": [
        "mylist3=[\"Michael\", \"Sean\", \"Adam\"]\n",
        "mylist4=[\"Zara\", \"Alex\"]\n",
        "mylist4.extend(mylist3)\n",
        "print(mylist4)"
      ],
      "metadata": {
        "colab": {
          "base_uri": "https://localhost:8080/"
        },
        "id": "i4NwqW6Ycqcz",
        "outputId": "3de428dc-e430-49e7-98f9-7a340bf232fa"
      },
      "execution_count": null,
      "outputs": [
        {
          "output_type": "stream",
          "name": "stdout",
          "text": [
            "['Zara', 'Alex', 'Michael', 'Sean', 'Adam']\n"
          ]
        }
      ]
    },
    {
      "cell_type": "code",
      "source": [
        "mylist4.remove(\"Zara\")\n",
        "print(mylist4)"
      ],
      "metadata": {
        "colab": {
          "base_uri": "https://localhost:8080/"
        },
        "id": "i8aeHWS3dmzi",
        "outputId": "1b6241c9-f14a-4781-b034-bd42a1a99aba"
      },
      "execution_count": null,
      "outputs": [
        {
          "output_type": "stream",
          "name": "stdout",
          "text": [
            "['Alex', 'Michael', 'Sean', 'Adam']\n"
          ]
        }
      ]
    },
    {
      "cell_type": "code",
      "source": [
        "mylist4.pop()\n",
        "print(mylist4)"
      ],
      "metadata": {
        "colab": {
          "base_uri": "https://localhost:8080/"
        },
        "id": "oyaBeqyVds9r",
        "outputId": "4b48616f-2cec-4bbe-9968-77d54c006c82"
      },
      "execution_count": null,
      "outputs": [
        {
          "output_type": "stream",
          "name": "stdout",
          "text": [
            "['Alex', 'Michael', 'Sean']\n"
          ]
        }
      ]
    },
    {
      "cell_type": "code",
      "source": [
        "mylist4.pop(1)\n",
        "print(mylist4)"
      ],
      "metadata": {
        "colab": {
          "base_uri": "https://localhost:8080/"
        },
        "id": "H-YaLVj5d4ha",
        "outputId": "49935653-9788-4519-b76a-cf8bc7c79013"
      },
      "execution_count": null,
      "outputs": [
        {
          "output_type": "stream",
          "name": "stdout",
          "text": [
            "['Alex', 'Sean']\n"
          ]
        }
      ]
    },
    {
      "cell_type": "code",
      "source": [
        "mylist5=[\"Zara\", \"Alex\", \"Zara\", \"Michael\", \"Sean\", \"Adam\"]\n",
        "mylist4=[\"Noun\", \"Adjectives\", \"Adverbs\"]\n",
        "mylist6=mylist5+mylist4\n",
        "print(mylist6)"
      ],
      "metadata": {
        "colab": {
          "base_uri": "https://localhost:8080/"
        },
        "id": "7GMey7x7d-Q6",
        "outputId": "86852d1b-15f2-4333-df6f-a87b18f2c13b"
      },
      "execution_count": null,
      "outputs": [
        {
          "output_type": "stream",
          "name": "stdout",
          "text": [
            "['Zara', 'Alex', 'Zara', 'Michael', 'Sean', 'Adam', 'Noun', 'Adjectives', 'Adverbs']\n"
          ]
        }
      ]
    },
    {
      "cell_type": "code",
      "source": [
        "mylist=[\"England\", \"Wales\", \"Scotland\", \"Northern Ireland\"]\n",
        "if \"Wales\" in mylist:\n",
        "  print(\"Present\")"
      ],
      "metadata": {
        "colab": {
          "base_uri": "https://localhost:8080/"
        },
        "id": "fA9fvP4yjYEv",
        "outputId": "be1e16bf-cb2e-40ff-cfe7-ddb57c1d9b30"
      },
      "execution_count": null,
      "outputs": [
        {
          "output_type": "stream",
          "name": "stdout",
          "text": [
            "Present\n"
          ]
        }
      ]
    },
    {
      "cell_type": "code",
      "source": [
        "mylist=[\"England\", \"Wales\", \"Scotland\", \"Northern Ireland\"]\n",
        "mylist.insert(4, \"France\")\n",
        "print(mylist)"
      ],
      "metadata": {
        "colab": {
          "base_uri": "https://localhost:8080/"
        },
        "id": "n4vdru3Cjp-W",
        "outputId": "3b11cb1b-10b7-4649-ac29-33243feb7ba9"
      },
      "execution_count": null,
      "outputs": [
        {
          "output_type": "stream",
          "name": "stdout",
          "text": [
            "['England', 'Wales', 'Scotland', 'Northern Ireland', 'France']\n"
          ]
        }
      ]
    },
    {
      "cell_type": "code",
      "source": [
        "companies=[\"tiktok\", \"whatsapp\", \"facebook\"]\n",
        "searchedfor=\"google\"\n",
        "if searchedfor in companies:\n",
        "  print(\"Yes, the company you searched for {} is in there\".format(searchedfor))\n",
        "else:\n",
        " print(\"the programme you wrote is adding {}\".format(searchedfor))\n",
        "companies.append(\"google\")\n",
        "print(companies)\n"
      ],
      "metadata": {
        "colab": {
          "base_uri": "https://localhost:8080/"
        },
        "id": "PzP_7A_Boe18",
        "outputId": "315ee86f-7ac9-4f9c-e858-75d1c70c7330"
      },
      "execution_count": null,
      "outputs": [
        {
          "output_type": "stream",
          "name": "stdout",
          "text": [
            "the programme you wrote is adding google\n",
            "['tiktok', 'whatsapp', 'facebook', 'google']\n"
          ]
        }
      ]
    },
    {
      "cell_type": "code",
      "source": [
        "InstrumentList = [\"Trombone\", \"Piano\", \"Guitar\"]\n",
        "InstrumentGuess = input ('Please put an instrument: ')\n",
        "print (\"You Selected {}\".format(InstrumentGuess))\n",
        "if InstrumentGuess in InstrumentList:\n",
        "  print(\"{} is already part of the list!\".format(InstrumentGuess))\n",
        "else: \n",
        "  print(\"{} is not in the list so will be added\".format(InstrumentGuess))\n",
        "  InstrumentList.append(\"{}\".format(InstrumentGuess))\n",
        "print (InstrumentList)\n"
      ],
      "metadata": {
        "colab": {
          "base_uri": "https://localhost:8080/"
        },
        "id": "ItY9VkYGowMz",
        "outputId": "045d06f6-1183-46a5-aade-9312dc86e761"
      },
      "execution_count": null,
      "outputs": [
        {
          "output_type": "stream",
          "name": "stdout",
          "text": [
            "Please put an instrument: Piano\n",
            "You Selected Piano\n",
            "Piano is already part of the list!\n",
            "['Trombone', 'Piano', 'Guitar']\n"
          ]
        }
      ]
    },
    {
      "cell_type": "code",
      "source": [
        "mylist7=[\"Meta\", \"Google\", \"Tesla\", \"Snap\"]\n",
        "element=input(\"Please input tech co. name (Capitalised)\")\n",
        "if element in mylist7:\n",
        "  print(\"Tech company already exists\")\n",
        "else:\n",
        "  mylist7.append(element)\n",
        "  print(\"The new list is:\", mylist7)"
      ],
      "metadata": {
        "colab": {
          "base_uri": "https://localhost:8080/"
        },
        "id": "bfLQEx7Ro--0",
        "outputId": "866e65ef-47b2-475e-d1dc-ea11cbc26f21"
      },
      "execution_count": null,
      "outputs": [
        {
          "output_type": "stream",
          "name": "stdout",
          "text": [
            "Please input tech co. name (Capitalised)Starbucks\n",
            "The new list is: ['Meta', 'Google', 'Tesla', 'Snap', 'Starbucks']\n"
          ]
        }
      ]
    },
    {
      "cell_type": "code",
      "source": [
        "companies=[\"Meta\", \"Google\", \"Tesla\", \"Snap\"]\n",
        "for element in range(len(companies)):\n",
        "  print(element, companies[element])"
      ],
      "metadata": {
        "colab": {
          "base_uri": "https://localhost:8080/"
        },
        "id": "8WfWzK01qlzz",
        "outputId": "d347102f-6bf1-478c-e17d-05689a446872"
      },
      "execution_count": null,
      "outputs": [
        {
          "output_type": "stream",
          "name": "stdout",
          "text": [
            "0 Meta\n",
            "1 Google\n",
            "2 Tesla\n",
            "3 Snap\n"
          ]
        }
      ]
    },
    {
      "cell_type": "code",
      "source": [
        "a = [1,2,3,4,5,6]\n",
        "c=[]\n",
        "for x in a:\n",
        "  c.append(x**2)\n",
        "print(c)"
      ],
      "metadata": {
        "colab": {
          "base_uri": "https://localhost:8080/"
        },
        "id": "GFQXBvqTuD1i",
        "outputId": "d98632d2-2eb2-48f6-b956-4c1722c3c793"
      },
      "execution_count": null,
      "outputs": [
        {
          "output_type": "stream",
          "name": "stdout",
          "text": [
            "[1, 4, 9, 16, 25, 36]\n"
          ]
        }
      ]
    },
    {
      "cell_type": "code",
      "source": [
        "a = [1,2,3,4,5,6]\n",
        "b = [x**2 for x in a]\n",
        "print(b)"
      ],
      "metadata": {
        "colab": {
          "base_uri": "https://localhost:8080/"
        },
        "id": "AB8S86pru6OA",
        "outputId": "8098fd59-7c11-4060-ed1b-b4938a8c053f"
      },
      "execution_count": null,
      "outputs": [
        {
          "output_type": "stream",
          "name": "stdout",
          "text": [
            "[1, 4, 9, 16, 25, 36]\n"
          ]
        }
      ]
    },
    {
      "cell_type": "code",
      "source": [
        "mylist8=[letter.upper() for letter in \"python\"]\n",
        "print(mylist8)"
      ],
      "metadata": {
        "colab": {
          "base_uri": "https://localhost:8080/"
        },
        "id": "K54j0qNrvHcw",
        "outputId": "e50a3e6a-34e1-4806-ac28-30c97d06c50b"
      },
      "execution_count": null,
      "outputs": [
        {
          "output_type": "stream",
          "name": "stdout",
          "text": [
            "['P', 'Y', 'T', 'H', 'O', 'N']\n"
          ]
        }
      ]
    },
    {
      "cell_type": "code",
      "source": [
        "mydict={\"employee\":\"Zara\", \"salary\":5000}\n",
        "mydict[\"department\"] = \"sales\"\n",
        "print(len(mydict))"
      ],
      "metadata": {
        "colab": {
          "base_uri": "https://localhost:8080/"
        },
        "id": "X5RuH1JcwGE2",
        "outputId": "218a6612-c40d-4c2e-d923-20b480661a80"
      },
      "execution_count": null,
      "outputs": [
        {
          "output_type": "stream",
          "name": "stdout",
          "text": [
            "3\n"
          ]
        }
      ]
    },
    {
      "cell_type": "code",
      "source": [
        "mydict={\"employee\":\"Zara\", \"salary\":5000, \"department\":\"sales\"}\n",
        "if \"department\" in mydict:\n",
        "  print(\"The key exists\")"
      ],
      "metadata": {
        "colab": {
          "base_uri": "https://localhost:8080/"
        },
        "id": "yGP65emtxSke",
        "outputId": "77491c8e-e1ba-4a07-c5b4-665bb16a48ca"
      },
      "execution_count": null,
      "outputs": [
        {
          "output_type": "stream",
          "name": "stdout",
          "text": [
            "The key exists\n"
          ]
        }
      ]
    },
    {
      "cell_type": "code",
      "source": [
        "mydict={\"employee\":\"Zara\", \"salary\":5000, \"department\":\"sales\"}\n",
        "mydict.update({\"status\":\"permanent\", \"salary\":6000, \"level\":3})\n",
        "print(mydict)"
      ],
      "metadata": {
        "colab": {
          "base_uri": "https://localhost:8080/"
        },
        "id": "OEMs85n5xqjW",
        "outputId": "8247da80-bc10-455e-d4e4-ee999e686ec0"
      },
      "execution_count": null,
      "outputs": [
        {
          "output_type": "stream",
          "name": "stdout",
          "text": [
            "{'employee': 'Zara', 'salary': 6000, 'department': 'sales', 'status': 'permanent', 'level': 3}\n"
          ]
        }
      ]
    },
    {
      "cell_type": "code",
      "source": [
        "mytuples = (\"Audi\", \"Ford\", \"Tesla\")\n",
        "mylist9=list(mytuples)\n",
        "mylist9[1]=\"BMW\"\n",
        "mytuples=tuple(mylist9)\n",
        "print(mytuples)"
      ],
      "metadata": {
        "colab": {
          "base_uri": "https://localhost:8080/"
        },
        "id": "CItDGG6wyATu",
        "outputId": "50144d44-32c6-4dcd-afea-ed378d194604"
      },
      "execution_count": null,
      "outputs": [
        {
          "output_type": "stream",
          "name": "stdout",
          "text": [
            "('Audi', 'BMW', 'Tesla')\n"
          ]
        }
      ]
    },
    {
      "cell_type": "code",
      "source": [],
      "metadata": {
        "id": "PDTMJlXn1uzF"
      },
      "execution_count": null,
      "outputs": []
    }
  ]
}